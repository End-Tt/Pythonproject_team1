import numpy as np
import matplotlib.pyplot as plt
from mpl_toolkits.mplot3d import Axes3D
from matplotlib.animation import FuncAnimation

class Visualizer:
    def __init__(self, particles):
        """
        Initialize the Visualizer with a list of Particle objects.
        Each Particle must have attributes: position (np.array), velocity (np.array), mass, and type (str).
        """
        self.particles = particles
        self.fig = plt.figure()
        self.ax = self.fig.add_subplot(111, projection='3d')
        self.heatmap = np.zeros((20, 20, 20))  # 3D grid for collision heatmap
        
    def update(self, frame):
        """
        Update the visualization for the current frame.
        """
        self.ax.clear()
        self.ax.set_xlim(-10, 10)
        self.ax.set_ylim(-10, 10)
        self.ax.set_zlim(-10, 10)
        self.ax.set_xlabel('X')
        self.ax.set_ylabel('Y')
        self.ax.set_zlabel('Z')
        
        # Move particles and check for collisions
        positions = []
        colors = []
        self.heatmap.fill(0)  # Reset heatmap for each frame
        
        for particle in self.particles:
            # Update particle position based on velocity
            particle.position += particle.velocity
            
            # Reflect particles at boundaries
            for i in range(3):  # X, Y, Z axes
                if particle.position[i] < -10 or particle.position[i] > 10:
                    particle.velocity[i] *= -1  # Reverse velocity
            
            # Record position
            positions.append(particle.position)
            
            # Map particle type to color
            color_map = {"proton": "red", "electron": "blue", "neutron": "green"}
            colors.append(color_map.get(particle.type, "black"))
            
            # Update heatmap
            grid_pos = np.clip(((particle.position + 10) // 1).astype(int), 0, 19)
            self.heatmap[grid_pos[0], grid_pos[1], grid_pos[2]] += 1
        
        # Convert to NumPy array for easier slicing
        positions = np.array(positions)
        
        # Detect collisions (simple pairwise distance check)
        for i, p1 in enumerate(self.particles):
            for j, p2 in enumerate(self.particles):
                if i != j:
                    dist = np.linalg.norm(p1.position - p2.position)
                    if dist < 1.0:  # Collision threshold
                        p1.velocity *= -1  # Simple collision response
                        p2.velocity *= -1
                        colors[i] = "yellow"  # Highlight collision
                        colors[j] = "yellow"
        
        # Plot particles
        self.ax.scatter(positions[:, 0], positions[:, 1], positions[:, 2], c=colors, s=50)
        
        # Overlay heatmap
        heatmap_threshold = 5  # Threshold to display hotspots
        heatmap_positions = np.argwhere(self.heatmap > heatmap_threshold)
        if len(heatmap_positions) > 0:
            heatmap_positions = (heatmap_positions - 10) + 0.5  # Centering grid points
            self.ax.scatter(
                heatmap_positions[:, 0],
                heatmap_positions[:, 1],
                heatmap_positions[:, 2],
                c="magenta",
                s=20,
                alpha=0.5,
                label="Collision Hotspots"
            )
        self.ax.legend()

    def animate(self):
        """
        Run the animation.
        """
        animation = FuncAnimation(self.fig, self.update, frames=100, interval=50)
        plt.show()

# Example usage
class Particle:
    def __init__(self, position, velocity, mass, particle_type):
        self.position = np.array(position, dtype=float)
        self.velocity = np.array(velocity, dtype=float)
        self.mass = mass
        self.type = particle_type

# Create dummy particles for testing
particles = [
    Particle(position=[-5, -5, -5], velocity=[1, 1, 1], mass=1.0, particle_type="proton"),
    Particle(position=[5, 5, 5], velocity=[-1, -1, -1], mass=1.0, particle_type="electron"),
    Particle(position=[0, 0, 0], velocity=[0.5, 0.5, 0.5], mass=1.0, particle_type="neutron"),
    Particle(position=[7, -7, 3], velocity=[-0.8, 0.9, -1.2], mass=1.0, particle_type="proton"),
]

# Initialize and run the visualizer
visualizer = Visualizer(particles)
visualizer.animate()
